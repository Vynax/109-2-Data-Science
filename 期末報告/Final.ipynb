{
 "cells": [
  {
   "cell_type": "code",
   "execution_count": 5,
   "metadata": {},
   "outputs": [
    {
     "name": "stdout",
     "output_type": "stream",
     "text": [
      "20\n",
      "30\n"
     ]
    },
    {
     "data": {
      "text/plain": [
       "59"
      ]
     },
     "execution_count": 5,
     "metadata": {},
     "output_type": "execute_result"
    }
   ],
   "source": [
    "import pandas as pd\n",
    "\n",
    "# 西藏路東往南左轉西園路\n",
    "# 25.028821, 121.495564 左上\n",
    "# 25.028760, 121.495747 右上\n",
    "# 25.028637, 121.495491 左下\n",
    "# 25.028604, 121.495656 右下\n",
    "\n",
    "# 大業路口 左轉 承德路\n",
    "# 25.121249, 121.499503 左上\n",
    "# 25.121159, 121.499842 右上\n",
    "# 25.120972, 121.499530 左下\n",
    "# 25.120866, 121.499858 右下\n",
    "\n",
    "# 鄭州路 左轉 塔城街\n",
    "# 25.050306, 121.510507 左上\n",
    "# 25.050295, 121.510549 右上\n",
    "# 25.050038, 121.510456 左下\n",
    "# 25.050034, 121.510499 右下\n",
    "\n",
    "accident_108 = pd.read_csv( '108年臺北市道路交通事故斑點圖.csv', header=0, names=['Date', 'Type', 'Address', 'X', 'Y'] , encoding = 'big5hkscs') # X : 經度  Y : 緯度\n",
    "# a['Date'][0]\n",
    "road_1_108 = accident_108.sort_values(by=['Date'],ascending=True)\n",
    "road_1_108 = road_1_108[(road_1_108['X'] >= 121.495491) & (road_1_108['X'] <= 121.495747) & (road_1_108['Y'] >= 25.028604) & (road_1_108['Y'] <= 25.028821)]\n",
    "print(len(road_1_108))\n",
    "\n",
    "road_2_108 = accident_108.sort_values(by=['Date'],ascending=True)\n",
    "road_2_108 = road_2_108[(road_2_108['X'] >= 121.499503) & (road_2_108['X'] <= 121.499858) & (road_2_108['Y'] >= 25.120866) & (road_2_108['Y'] <= 25.121249)]\n",
    "print(len(road_2_108))\n",
    "\n",
    "# # illegal\n",
    "# # 25127 北投區文林北路5巷\n",
    "# # 25996 北投區大業路與洲美快速道路口匝道口\n",
    "\n",
    "road_3_108 = accident_108.sort_values(by=['Date'],ascending=True)\n",
    "road_3_108 = road_3_108[(road_3_108['X'] >= 121.510456) & (road_3_108['X'] <= 121.510549) & (road_3_108['Y'] >= 25.050034) & (road_3_108['Y'] <= 25.050306)]\n",
    "len(road_3_108)"
   ]
  },
  {
   "cell_type": "code",
   "execution_count": 6,
   "metadata": {
    "scrolled": false
   },
   "outputs": [
    {
     "name": "stdout",
     "output_type": "stream",
     "text": [
      "16\n",
      "24\n"
     ]
    },
    {
     "data": {
      "text/plain": [
       "46.285714285714285"
      ]
     },
     "execution_count": 6,
     "metadata": {},
     "output_type": "execute_result"
    }
   ],
   "source": [
    "accident_109 = pd.read_csv( '109年臺北市道路交通事故斑點圖.csv', header=0, names=['Date', 'Type', 'Address', 'X', 'Y'] , encoding = 'big5hkscs') # X : 經度  Y : 緯度\n",
    "# a['Date'][0]\n",
    "road_1_109 = accident_109.sort_values(by=['Date'],ascending=True)\n",
    "road_1_109 = road_1_109[(road_1_109['X'] >= 121.495491) & (road_1_109['X'] <= 121.495747) & (road_1_109['Y'] >= 25.028604) & (road_1_109['Y'] <= 25.028821)]\n",
    "print(len(road_1_109))\n",
    "\n",
    "road_2_109 = accident_109.sort_values(by=['Date'],ascending=True)\n",
    "road_2_109 = road_2_109[(road_2_109['X'] >= 121.499503) & (road_2_109['X'] <= 121.499858) & (road_2_109['Y'] >= 25.120866) & (road_2_109['Y'] <= 25.121249)]\n",
    "print(len(road_2_109))\n",
    "\n",
    "# illegal\n",
    "# 28961 北投區中央南路2段與大度路1段口\n",
    "# 31134 北投區大度路1段與中央南路2段口\n",
    "# 30697 北投區大業路與洲美快速道路口匝道口\n",
    "\n",
    "road_3_109 = accident_109.sort_values(by=['Date'],ascending=True)\n",
    "road_3_109 = road_3_109[(road_3_109['X'] >= 121.510456) & (road_3_109['X'] <= 121.510549) & (road_3_109['Y'] >= 25.050034) & (road_3_109['Y'] <= 25.050306)]\n",
    "\n",
    "len(road_3_109[road_3_109['Date'] < '2020-08'])/7*12"
   ]
  },
  {
   "cell_type": "code",
   "execution_count": 7,
   "metadata": {},
   "outputs": [
    {
     "data": {
      "text/plain": [
       "21.6"
      ]
     },
     "execution_count": 7,
     "metadata": {},
     "output_type": "execute_result"
    }
   ],
   "source": [
    "len(road_3_109[road_3_109['Date'] >= '2020-08'])/5*12"
   ]
  },
  {
   "cell_type": "code",
   "execution_count": null,
   "metadata": {},
   "outputs": [],
   "source": []
  }
 ],
 "metadata": {
  "kernelspec": {
   "display_name": "Python 3",
   "language": "python",
   "name": "python3"
  },
  "language_info": {
   "codemirror_mode": {
    "name": "ipython",
    "version": 3
   },
   "file_extension": ".py",
   "mimetype": "text/x-python",
   "name": "python",
   "nbconvert_exporter": "python",
   "pygments_lexer": "ipython3",
   "version": "3.9.5"
  }
 },
 "nbformat": 4,
 "nbformat_minor": 2
}
